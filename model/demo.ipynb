{
 "cells": [
  {
   "cell_type": "code",
   "execution_count": 1,
   "id": "stopped-arena",
   "metadata": {},
   "outputs": [],
   "source": [
    "import pickle\n",
    "import time\n",
    "import pandas as pd\n",
    "\n",
    "from annoy import AnnoyIndex"
   ]
  },
  {
   "cell_type": "code",
   "execution_count": 2,
   "id": "premium-wesley",
   "metadata": {},
   "outputs": [
    {
     "name": "stderr",
     "output_type": "stream",
     "text": [
      "/home/talgatomarov/Projects/google-nlp/venv/lib/python3.6/site-packages/sklearn/base.py:315: UserWarning: Trying to unpickle estimator TfidfTransformer from version 0.23.1 when using version 0.24.1. This might lead to breaking code or invalid results. Use at your own risk.\n",
      "  UserWarning)\n",
      "/home/talgatomarov/Projects/google-nlp/venv/lib/python3.6/site-packages/sklearn/base.py:315: UserWarning: Trying to unpickle estimator TfidfVectorizer from version 0.23.1 when using version 0.24.1. This might lead to breaking code or invalid results. Use at your own risk.\n",
      "  UserWarning)\n",
      "/home/talgatomarov/Projects/google-nlp/venv/lib/python3.6/site-packages/sklearn/base.py:315: UserWarning: Trying to unpickle estimator TruncatedSVD from version 0.23.1 when using version 0.24.1. This might lead to breaking code or invalid results. Use at your own risk.\n",
      "  UserWarning)\n"
     ]
    },
    {
     "data": {
      "text/plain": [
       "True"
      ]
     },
     "execution_count": 2,
     "metadata": {},
     "output_type": "execute_result"
    }
   ],
   "source": [
    "vectorizer = pickle.load(open(\"../artifacts/vectorizer.p\", \"rb\"))\n",
    "svd = pickle.load(open(\"../artifacts/svd.p\", \"rb\"))\n",
    "tfs = pickle.load(open(\"../artifacts/tfs.p\", \"rb\"))\n",
    "tfs_truncated = pickle.load(open(\"../artifacts/tfs_truncated.p\", \"rb\"))\n",
    "\n",
    "annoy_idx = AnnoyIndex(512, 'angular')\n",
    "annoy_idx.load('../artifacts/index.ann')"
   ]
  },
  {
   "cell_type": "code",
   "execution_count": 3,
   "id": "covered-criterion",
   "metadata": {},
   "outputs": [],
   "source": [
    "def tfidf_svd(query):\n",
    "    query_tfs = vectorizer.transform(query)\n",
    "    query_tfs_truncated = svd.transform(query_tfs)\n",
    "    \n",
    "    idxs = annoy_idx.get_nns_by_vector(query_tfs_truncated[0], 5)\n",
    "    \n",
    "    return idxs"
   ]
  },
  {
   "cell_type": "code",
   "execution_count": 16,
   "id": "graduate-spine",
   "metadata": {},
   "outputs": [],
   "source": [
    "df = pd.read_csv('../data/articles.csv')\n",
    "content = df['content']"
   ]
  },
  {
   "cell_type": "code",
   "execution_count": 59,
   "id": "behind-lover",
   "metadata": {},
   "outputs": [],
   "source": [
    "query = ['what is presidential campaign']"
   ]
  },
  {
   "cell_type": "code",
   "execution_count": 60,
   "id": "hindu-unknown",
   "metadata": {},
   "outputs": [
    {
     "name": "stdout",
     "output_type": "stream",
     "text": [
      "0.3359 s\n"
     ]
    }
   ],
   "source": [
    "t1 = time.time()\n",
    "idxs = tfidf_svd(query)\n",
    "t2 = time.time()\n",
    "print(f\"{t2 - t1:.4f} s\")"
   ]
  },
  {
   "cell_type": "code",
   "execution_count": 61,
   "id": "quiet-bearing",
   "metadata": {},
   "outputs": [
    {
     "name": "stdout",
     "output_type": "stream",
     "text": [
      "Article ID: 64279\n",
      "Title: Campaigns we can believe in\n",
      "\n",
      "Presidential candidates have to find fresh ways to sell themselves and their ideas to the American people. From ”Tippecanoe and Tyler too” to ”Change we can believe in,” here are some of America’s best presidential campaign slogans.\n",
      "--------------------------------\n",
      "Article ID: 71373\n",
      "Title: Trump is reportedly not paying his campaign staffers\n",
      "\n",
      "’  ’ ’   Republican presidential nominee Donald Trump has run an unusually   cheap campaign in part by not paying at least 10 top   staffers, consultants and advisers, some of whom are no   longer with the campaign, according to a review   of federal campaign finance filings. ’ ’   Those who have so far not been paid, the filings show, include   recently departed campaign manager Paul Manafort, California   state director Tim Clark, communications director Michael Caputo   and a pair of senior a\n",
      "--------------------------------\n",
      "Article ID: 71645\n",
      "Title: BOONE PICKENS: ’This is the strangest two candidates I’ve ever seen’\n",
      "\n",
      "’  ’ ’   T. Boone Pickens has weighed in on the   presidential   campaign. ’ ’   At the  moderator Tom Brokaw noted that ”we’’re in   the midst of the most chaotic presidential campaign I have ever   covered,” and subsequently asked the billionaire energy tycoon   about his ”feeling about the future of America.”  ’ ’   ”It scares the hell out of you. This is the strangest two   candidates I’’ve ever seen,” Pickens responded to Brokaw. ’ ’   He continued: ’ ’’ ’   Notably,  last week that Pickens\n",
      "--------------------------------\n",
      "Article ID: 39451\n",
      "Title: Koch Brothers Advisor Joins Marco Rubio Campaign - Breitbart\n",
      "\n",
      "Marc Short, a political adviser for the Koch brothers, has joined Sen. Marco Rubio’s campaign for president, according to a report from Politico’s Mike Allen. [Short is currently the president of the Koch group Freedom Partners and resigned to join the Rubio team.  According to Allen’s report, Short is well connected with grassroots organizers and donors and has a depth of knowledge about how to crunch campaign data. In 2014, Short was cited as one of the top recruits for a presidential campaign\n",
      "--------------------------------\n",
      "Article ID: 190671\n",
      "Title: How to get sick on the U.S. campaign trail: Little sleep, bad food, germs everywhere\n",
      "\n",
      " Hillary Clinton’s bout of pneumonia has shed light on a problem seldom seen by American voters: The long days, little sleep,   travel, bad food and kissing babies add up to a recipe for illness for presidential candidates and aides. Avoiding viruses and other ailments can be next to impossible for people who spend months in the close confines of campaign planes and buses. Brooke Buchanan, former press secretary to 2008 Republican presidential candidate Senator John McCain, remembers leaving the\n",
      "--------------------------------\n"
     ]
    }
   ],
   "source": [
    "for idx in idxs:\n",
    "    print(f'Article ID: {df.id[idx]}')\n",
    "    print(f'Title: {df.title[idx]}\\n')\n",
    "    print(df.content[idx][:500])\n",
    "    print('-' * 32)"
   ]
  },
  {
   "cell_type": "code",
   "execution_count": null,
   "id": "desirable-opening",
   "metadata": {},
   "outputs": [],
   "source": []
  }
 ],
 "metadata": {
  "kernelspec": {
   "display_name": "Python 3",
   "language": "python",
   "name": "python3"
  },
  "language_info": {
   "codemirror_mode": {
    "name": "ipython",
    "version": 3
   },
   "file_extension": ".py",
   "mimetype": "text/x-python",
   "name": "python",
   "nbconvert_exporter": "python",
   "pygments_lexer": "ipython3",
   "version": "3.6.9"
  }
 },
 "nbformat": 4,
 "nbformat_minor": 5
}
