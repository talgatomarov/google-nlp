{
 "cells": [
  {
   "cell_type": "markdown",
   "metadata": {},
   "source": [
    "# TFIDF + SVD"
   ]
  },
  {
   "cell_type": "code",
   "execution_count": 1,
   "metadata": {},
   "outputs": [
    {
     "name": "stderr",
     "output_type": "stream",
     "text": [
      "[nltk_data] Downloading package stopwords to\n",
      "[nltk_data]     /home/talgatomarov/nltk_data...\n",
      "[nltk_data]   Package stopwords is already up-to-date!\n",
      "[nltk_data] Downloading package wordnet to\n",
      "[nltk_data]     /home/talgatomarov/nltk_data...\n",
      "[nltk_data]   Package wordnet is already up-to-date!\n"
     ]
    },
    {
     "data": {
      "text/plain": [
       "True"
      ]
     },
     "execution_count": 1,
     "metadata": {},
     "output_type": "execute_result"
    }
   ],
   "source": [
    "from string import punctuation\n",
    "import time\n",
    "import pandas as pd\n",
    "import numpy as np\n",
    "import pickle\n",
    "from scipy.sparse import csr_matrix\n",
    "\n",
    "import nltk\n",
    "from nltk.tokenize import word_tokenize\n",
    "from nltk.corpus import stopwords\n",
    "from nltk.stem import WordNetLemmatizer\n",
    "\n",
    "from sklearn.feature_extraction.text import TfidfVectorizer\n",
    "from sklearn.decomposition import TruncatedSVD\n",
    "from sklearn.metrics.pairwise import cosine_similarity\n",
    "\n",
    "from annoy import AnnoyIndex\n",
    "\n",
    "nltk.download('stopwords')\n",
    "nltk.download('wordnet')"
   ]
  },
  {
   "cell_type": "markdown",
   "metadata": {},
   "source": [
    "## Loading data"
   ]
  },
  {
   "cell_type": "code",
   "execution_count": 2,
   "metadata": {},
   "outputs": [],
   "source": [
    "df = pd.read_csv('../data/articles.csv')\n",
    "content = df['content']"
   ]
  },
  {
   "cell_type": "markdown",
   "metadata": {},
   "source": [
    "## Custom tokenization"
   ]
  },
  {
   "cell_type": "code",
   "execution_count": 3,
   "metadata": {},
   "outputs": [],
   "source": [
    "lemmatizer = WordNetLemmatizer()\n",
    "\n",
    "# I did not use this function due to time constraints\n",
    "# Tokenizer built-in in TfidfVetorizer was much faster\n",
    "def tokenize(text):\n",
    "    tokens = np.array(word_tokenize(text.lower()))\n",
    "    tokens = tokens[~np.isin(tokens, stopwords.words(\"english\")) & ~np.isin(tokens, punctuation)]\n",
    "    \n",
    "    if tokens.size == 0:\n",
    "        return np.array([])\n",
    "    \n",
    "    tokens = tokens[np.char.str_len(tokens) > 1]\n",
    "    \n",
    "    if tokens.size == 0:\n",
    "        return np.array([])\n",
    "    \n",
    "    lemmatize = np.vectorize(lemmatizer.lemmatize)\n",
    "    lemmas = lemmatize(tokens)        \n",
    "    \n",
    "    return lemmas "
   ]
  },
  {
   "cell_type": "markdown",
   "metadata": {},
   "source": [
    "## TFIDF"
   ]
  },
  {
   "cell_type": "code",
   "execution_count": 4,
   "metadata": {},
   "outputs": [],
   "source": [
    "vectorizer = TfidfVectorizer(max_features=30000, strip_accents='ascii', lowercase=True, stop_words='english')\n",
    "tfs = vectorizer.fit_transform(content)"
   ]
  },
  {
   "cell_type": "markdown",
   "metadata": {},
   "source": [
    "## SVD"
   ]
  },
  {
   "cell_type": "code",
   "execution_count": 5,
   "metadata": {},
   "outputs": [],
   "source": [
    "svd = TruncatedSVD(n_components = 512)\n",
    "tfs_truncated = svd.fit_transform(tfs)"
   ]
  },
  {
   "cell_type": "markdown",
   "metadata": {},
   "source": [
    "## ANNOY indexing"
   ]
  },
  {
   "cell_type": "code",
   "execution_count": 7,
   "metadata": {},
   "outputs": [],
   "source": [
    "def save_index(matrix, file_name, dim=512, n_trees=128):\n",
    "    annoy_index = AnnoyIndex(dim, 'angular')\n",
    "    \n",
    "    if isinstance(matrix, csr_matrix):\n",
    "        matrix = matrix.toarray()\n",
    "\n",
    "    for i, v in enumerate(matrix):\n",
    "        annoy_index.add_item(i, v)\n",
    "\n",
    "    annoy_index.build(n_trees)\n",
    "    annoy_index.save(file_name)"
   ]
  },
  {
   "cell_type": "markdown",
   "metadata": {},
   "source": [
    "## Saving artifacts"
   ]
  },
  {
   "cell_type": "code",
   "execution_count": 6,
   "metadata": {},
   "outputs": [],
   "source": [
    "def save_artifacts():\n",
    "    pickle.dump(vectorizer, open(\"../artifacts/vectorizer.p\", \"wb\" ))\n",
    "    pickle.dump(tfs, open(\"../artifacts/tfs.p\", \"wb\" ))\n",
    "    pickle.dump(svd, open(\"../artifacts/svd.p\", \"wb\" ))\n",
    "    pickle.dump(tfs_truncated, open(\"../artifacts/tfs_truncated.p\", \"wb\" ))"
   ]
  },
  {
   "cell_type": "code",
   "execution_count": 8,
   "metadata": {},
   "outputs": [],
   "source": [
    "save_artifacts()\n",
    "save_index(tfs_truncated, '../artifacts/index.ann')"
   ]
  }
 ],
 "metadata": {
  "kernelspec": {
   "display_name": "Python 3",
   "language": "python",
   "name": "python3"
  },
  "language_info": {
   "codemirror_mode": {
    "name": "ipython",
    "version": 3
   },
   "file_extension": ".py",
   "mimetype": "text/x-python",
   "name": "python",
   "nbconvert_exporter": "python",
   "pygments_lexer": "ipython3",
   "version": "3.6.9"
  }
 },
 "nbformat": 4,
 "nbformat_minor": 4
}
