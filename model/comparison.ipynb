{
 "cells": [
  {
   "cell_type": "markdown",
   "metadata": {},
   "source": [
    "# Comparison"
   ]
  },
  {
   "cell_type": "code",
   "execution_count": 1,
   "metadata": {},
   "outputs": [],
   "source": [
    "import timeit\n",
    "import pickle\n",
    "from sklearn.metrics.pairwise import cosine_similarity\n",
    "from functools import partial\n",
    "\n",
    "from annoy import AnnoyIndex"
   ]
  },
  {
   "cell_type": "markdown",
   "metadata": {},
   "source": [
    "## Loading artifacts"
   ]
  },
  {
   "cell_type": "code",
   "execution_count": 2,
   "metadata": {},
   "outputs": [
    {
     "data": {
      "text/plain": [
       "True"
      ]
     },
     "execution_count": 2,
     "metadata": {},
     "output_type": "execute_result"
    }
   ],
   "source": [
    "vectorizer = pickle.load(open(\"../artifacts/vectorizer.p\", \"rb\"))\n",
    "svd = pickle.load(open(\"../artifacts/svd.p\", \"rb\"))\n",
    "tfs = pickle.load(open(\"../artifacts/tfs.p\", \"rb\"))\n",
    "tfs_truncated = pickle.load(open(\"../artifacts/tfs_truncated.p\", \"rb\"))\n",
    "\n",
    "annoy_idx = AnnoyIndex(512, 'angular')\n",
    "annoy_idx.load('../artifacts/index.ann')"
   ]
  },
  {
   "cell_type": "code",
   "execution_count": 3,
   "metadata": {},
   "outputs": [
    {
     "name": "stdout",
     "output_type": "stream",
     "text": [
      "tfidf matrix shape (142570, 30000)\n",
      "truncated tfidf matrix shape (142570, 512)\n"
     ]
    }
   ],
   "source": [
    "print(f'tfidf matrix shape {tfs.shape}')\n",
    "print(f'truncated tfidf matrix shape {tfs_truncated.shape}')"
   ]
  },
  {
   "cell_type": "code",
   "execution_count": 4,
   "metadata": {},
   "outputs": [],
   "source": [
    "def tfidf(query):\n",
    "    query_tfs = vectorizer.transform(query)\n",
    "    idxs = cosine_similarity(tfs, query_tfs).flatten().argsort()[-5:][::-1]\n",
    "\n",
    "    return idxs"
   ]
  },
  {
   "cell_type": "code",
   "execution_count": 5,
   "metadata": {},
   "outputs": [],
   "source": [
    "def tfidf_truncated(query):\n",
    "    query_tfs = vectorizer.transform(query)\n",
    "    query_tfs_truncated = svd.transform(query_tfs)\n",
    "    \n",
    "    idxs = cosine_similarity(tfs_truncated, query_tfs_truncated).flatten().argsort()[-5:][::-1]\n",
    "    \n",
    "    return idxs"
   ]
  },
  {
   "cell_type": "code",
   "execution_count": 6,
   "metadata": {},
   "outputs": [],
   "source": [
    "def tfidf_truncated_annoy(query):\n",
    "    query_tfs = vectorizer.transform(query)\n",
    "    query_tfs_truncated = svd.transform(query_tfs)\n",
    "    \n",
    "    idxs = annoy_idx.get_nns_by_vector(query_tfs_truncated[0], 5)"
   ]
  },
  {
   "cell_type": "markdown",
   "metadata": {},
   "source": [
    "## Speed comparison"
   ]
  },
  {
   "cell_type": "code",
   "execution_count": 7,
   "metadata": {},
   "outputs": [],
   "source": [
    "query = ['global warming']"
   ]
  },
  {
   "cell_type": "code",
   "execution_count": 8,
   "metadata": {},
   "outputs": [
    {
     "name": "stdout",
     "output_type": "stream",
     "text": [
      "tfifd 100 runs: 42.89762159999373 s\n"
     ]
    }
   ],
   "source": [
    "print(f'tfifd 100 runs: {timeit.timeit(partial(tfidf, query), number=100)} s')"
   ]
  },
  {
   "cell_type": "code",
   "execution_count": 9,
   "metadata": {},
   "outputs": [
    {
     "name": "stdout",
     "output_type": "stream",
     "text": [
      "tfifd svd 100 runs: 70.42441352000606 s\n"
     ]
    }
   ],
   "source": [
    "print(f'tfifd svd 100 runs: {timeit.timeit(partial(tfidf_truncated, query), number=100)} s')"
   ]
  },
  {
   "cell_type": "code",
   "execution_count": 10,
   "metadata": {},
   "outputs": [
    {
     "name": "stdout",
     "output_type": "stream",
     "text": [
      "tfifd svd 100 runs: 5.293838245001098 s\n"
     ]
    }
   ],
   "source": [
    "print(f'tfifd svd 100 runs: {timeit.timeit(partial(tfidf_truncated_annoy, query), number=100)} s')"
   ]
  }
 ],
 "metadata": {
  "kernelspec": {
   "display_name": "Python 3",
   "language": "python",
   "name": "python3"
  },
  "language_info": {
   "codemirror_mode": {
    "name": "ipython",
    "version": 3
   },
   "file_extension": ".py",
   "mimetype": "text/x-python",
   "name": "python",
   "nbconvert_exporter": "python",
   "pygments_lexer": "ipython3",
   "version": "3.6.9"
  }
 },
 "nbformat": 4,
 "nbformat_minor": 4
}
